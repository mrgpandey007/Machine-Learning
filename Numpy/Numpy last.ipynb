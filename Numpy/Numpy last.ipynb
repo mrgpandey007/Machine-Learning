{
 "cells": [
  {
   "cell_type": "markdown",
   "id": "9b60ffa4-1323-4c8b-a196-63cdf54fc9cc",
   "metadata": {},
   "source": [
    "# Insert and Delete in Numpy Array"
   ]
  },
  {
   "cell_type": "code",
   "execution_count": 41,
   "id": "9457c73b-19bb-4cd0-ab5d-2c5156e28d3a",
   "metadata": {},
   "outputs": [
    {
     "name": "stdout",
     "output_type": "stream",
     "text": [
      "np.append(arr,7) =\t: [1 2 3 4 6 7]\n",
      "np.insert(arr,4,5) =\t: [1 2 3 4 5 6 7]\n",
      "np.delete(arr,5) =\t: [1 2 3 4 5 7]\n",
      "np.delete(arr,5) =\t: [2 4]\n"
     ]
    }
   ],
   "source": [
    "import numpy as np\n",
    "arr=np.array([1,2,3,4,6])\n",
    "arr=np.append(arr,7)\n",
    "print(\"np.append(arr,7) =\\t:\",arr)  #append method adds the elements in the last\n",
    "arr=np.insert(arr,4,5)\n",
    "print(\"np.insert(arr,4,5) =\\t:\",arr) #insert method is used the insert the elements at specified index\n",
    "arr=np.delete(arr,5)\n",
    "print(\"np.delete(arr,5) =\\t:\",arr) #delete the element at the given index\n",
    "arr=np.delete(arr,(0,2,4,5))\n",
    "print(\"np.delete(arr,5) =\\t:\",arr) #delete the element at the given index's"
   ]
  },
  {
   "cell_type": "markdown",
   "id": "d3b47d38-d142-4f2e-aa89-5e437445617b",
   "metadata": {},
   "source": [
    "# Numpy Functions "
   ]
  },
  {
   "cell_type": "code",
   "execution_count": 79,
   "id": "89126042-29ec-4707-a208-a6e52ed26d44",
   "metadata": {},
   "outputs": [
    {
     "name": "stdout",
     "output_type": "stream",
     "text": [
      "After Shuffing the elements\t: [4 2 6 3 1]\n",
      "np.unique(arr2)\t: [ 1  2  3  4  6  7  9 22 33]\n",
      "[1 2 3 4 5 6 7 8 9]\n",
      "[1 4 7 2 5 8 3 6 9]\n",
      "[1 2 3 4 5 6 7 8 9]\n",
      "[1 2 3 4 5 6 7 8 9]\n",
      "\n",
      "[1 2 3 4 5 6 7 8 9]\n",
      "[1 4 7 2 5 8 3 6 9]\n",
      "[1 2 3 4 5 6 7 8 9]\n",
      "[1 2 3 4 5 6 7 8 9]\n"
     ]
    }
   ],
   "source": [
    "arr1=np.array([1,2,3,4,6])\n",
    "#Shuffle() Function\n",
    "np.random.shuffle(arr1) # It shuffle the elements\n",
    "print(\"After Shuffing the elements\\t:\",arr1)\n",
    "\n",
    "arr2=np.array([1,1,2,3,4,6,7,7,9,22,33])\n",
    "#UNIQUE() Function\n",
    "print(\"np.unique(arr2)\\t:\",np.unique(arr2)) # It return the unique elements\n",
    "\n",
    "#Flatten Function\n",
    "arr3=np.array([[1,2,3],[4,5,6],[7,8,9]])\n",
    "print(arr3.flatten(order=\"C\"))  #Row -major order\n",
    "print(arr3.flatten(order=\"F\"))  #column - major order\n",
    "print(arr3.flatten(order=\"A\"))  #column - major order if arr3 is contiguous in memory,row-major order otherwise\n",
    "print(arr3.flatten(order=\"K\"))  #Array elements in that order which occur in memory\n",
    "\n",
    "print()\n",
    "#Ravel Function same as Flatten Function\n",
    "arr4=np.array([[1,2,3],[4,5,6],[7,8,9]])\n",
    "print(np.ravel(arr4,order=\"C\"))  #Row -major order\n",
    "print(np.ravel(arr4,order=\"F\"))  #column - major order\n",
    "print(np.ravel(arr4,order=\"A\"))  #column - major order if arr3 is contiguous in memory,row-major order otherwise\n",
    "print(np.ravel(arr4,order=\"K\"))  #Array elements in that order which occur in memory"
   ]
  },
  {
   "cell_type": "markdown",
   "id": "08d4b4bf-7538-40dc-9af9-75ae11b5760e",
   "metadata": {},
   "source": [
    "# Copy() & View() methods"
   ]
  },
  {
   "cell_type": "code",
   "execution_count": 80,
   "id": "40d54769-7427-4562-868d-14b8d91a387d",
   "metadata": {},
   "outputs": [
    {
     "name": "stdout",
     "output_type": "stream",
     "text": [
      "Array =\t [ 1  1  2  3  4  6  7  7  9 22 33]\n",
      "COPIED Variable =\t: [ 1  1  2  3  4  6  7  7  9 22 33]\n",
      "VIEWED Variable =\t: [ 1  1  2  3  4  6  7  7  9 22 33] \n",
      "\n",
      "Array =\t [ 1  0  0  3  4  6  7  7  9 22 33]\n",
      "COPIED Variable =\t: [ 1  1  2  3  4  6  7  7  9 22 33]\n",
      "VIEWED Variable =\t: [ 1  0  0  3  4  6  7  7  9 22 33] \n",
      "\n"
     ]
    }
   ],
   "source": [
    "co=arr2.copy()\n",
    "v=arr2.view()\n",
    "print(\"Array =\\t\",arr2)\n",
    "print(\"COPIED Variable =\\t:\",co)\n",
    "print(\"VIEWED Variable =\\t:\",v,\"\\n\")\n",
    "\n",
    "#changing some elements to arr2\n",
    "arr2[1]=0\n",
    "arr2[2]=0\n",
    "\n",
    "#Viewed and copied variable after changing some elements to arr2\n",
    "print(\"Array =\\t\",arr2)\n",
    "print(\"COPIED Variable =\\t:\",co)\n",
    "print(\"VIEWED Variable =\\t:\",v,\"\\n\")"
   ]
  },
  {
   "cell_type": "markdown",
   "id": "ab755ec5-181e-430e-99f5-c4fcc1ad90ea",
   "metadata": {},
   "source": [
    "# Filter Array"
   ]
  },
  {
   "cell_type": "code",
   "execution_count": 53,
   "id": "ca0087a4-c9d3-4be8-9ed9-f8f75d351a64",
   "metadata": {},
   "outputs": [
    {
     "name": "stdout",
     "output_type": "stream",
     "text": [
      "[1 4]\n"
     ]
    }
   ],
   "source": [
    "arr_5=np.array([1,2,3,4])\n",
    "f=[True,False,False,True]\n",
    "new_arr_5=arr_5[f]\n",
    "print(new_arr_5)"
   ]
  },
  {
   "cell_type": "markdown",
   "id": "b1e63c62-31fe-44d0-9090-41411b014d76",
   "metadata": {},
   "source": [
    "# Concatenation of Array"
   ]
  },
  {
   "cell_type": "code",
   "execution_count": 62,
   "id": "260b23d1-db79-40fd-8fe8-14b1d7f033f9",
   "metadata": {
    "scrolled": true
   },
   "outputs": [
    {
     "name": "stdout",
     "output_type": "stream",
     "text": [
      "np.concatenate((arr4,arr5))\n"
     ]
    },
    {
     "data": {
      "text/plain": [
       "array([[1, 2, 3],\n",
       "       [4, 5, 6],\n",
       "       [7, 8, 9],\n",
       "       [9, 8, 7],\n",
       "       [6, 5, 4],\n",
       "       [3, 2, 1]])"
      ]
     },
     "execution_count": 62,
     "metadata": {},
     "output_type": "execute_result"
    }
   ],
   "source": [
    "arr4=np.array([[1,2,3],[4,5,6],[7,8,9]])\n",
    "arr5=np.array([[9,8,7],[6,5,4],[3,2,1]])\n",
    "print(\"np.concatenate((arr4,arr5))\")\n",
    "np.concatenate((arr4,arr5))"
   ]
  },
  {
   "cell_type": "code",
   "execution_count": 63,
   "id": "137d1f21-593a-4456-928e-6b124a5016ea",
   "metadata": {},
   "outputs": [
    {
     "name": "stdout",
     "output_type": "stream",
     "text": [
      "np.concatenate((arr4,arr5)),axis=0\n"
     ]
    },
    {
     "data": {
      "text/plain": [
       "array([[1, 2, 3],\n",
       "       [4, 5, 6],\n",
       "       [7, 8, 9],\n",
       "       [9, 8, 7],\n",
       "       [6, 5, 4],\n",
       "       [3, 2, 1]])"
      ]
     },
     "execution_count": 63,
     "metadata": {},
     "output_type": "execute_result"
    }
   ],
   "source": [
    "print(\"np.concatenate((arr4,arr5)),axis=0\")\n",
    "np.concatenate((arr4,arr5),axis=0)"
   ]
  },
  {
   "cell_type": "code",
   "execution_count": 64,
   "id": "fa21f832-6e4a-4c8e-940c-5f4b00875060",
   "metadata": {},
   "outputs": [
    {
     "name": "stdout",
     "output_type": "stream",
     "text": [
      "np.concatenate((arr4,arr5)),axis=1\n"
     ]
    },
    {
     "data": {
      "text/plain": [
       "array([[1, 2, 3, 9, 8, 7],\n",
       "       [4, 5, 6, 6, 5, 4],\n",
       "       [7, 8, 9, 3, 2, 1]])"
      ]
     },
     "execution_count": 64,
     "metadata": {},
     "output_type": "execute_result"
    }
   ],
   "source": [
    "print(\"np.concatenate((arr4,arr5)),axis=1\")\n",
    "np.concatenate((arr4,arr5),axis=1)"
   ]
  },
  {
   "cell_type": "code",
   "execution_count": 67,
   "id": "166efde6-1555-434e-abc3-f15d76340847",
   "metadata": {},
   "outputs": [
    {
     "data": {
      "text/plain": [
       "array([[[1, 2, 3],\n",
       "        [4, 5, 6],\n",
       "        [7, 8, 9]],\n",
       "\n",
       "       [[9, 8, 7],\n",
       "        [6, 5, 4],\n",
       "        [3, 2, 1]]])"
      ]
     },
     "execution_count": 67,
     "metadata": {},
     "output_type": "execute_result"
    }
   ],
   "source": [
    "np.stack((arr4,arr5),axis=0) "
   ]
  },
  {
   "cell_type": "code",
   "execution_count": 68,
   "id": "ff42fcb2-9b60-4c4c-9efd-86e8a744b099",
   "metadata": {},
   "outputs": [
    {
     "data": {
      "text/plain": [
       "array([[[1, 2, 3],\n",
       "        [9, 8, 7]],\n",
       "\n",
       "       [[4, 5, 6],\n",
       "        [6, 5, 4]],\n",
       "\n",
       "       [[7, 8, 9],\n",
       "        [3, 2, 1]]])"
      ]
     },
     "execution_count": 68,
     "metadata": {},
     "output_type": "execute_result"
    }
   ],
   "source": [
    "np.stack((arr4,arr5),axis=1)"
   ]
  },
  {
   "cell_type": "code",
   "execution_count": 69,
   "id": "7a22aa10-638a-4dcc-b54e-d0908d61d669",
   "metadata": {},
   "outputs": [
    {
     "data": {
      "text/plain": [
       "array([[1, 2, 3, 9, 8, 7],\n",
       "       [4, 5, 6, 6, 5, 4],\n",
       "       [7, 8, 9, 3, 2, 1]])"
      ]
     },
     "execution_count": 69,
     "metadata": {},
     "output_type": "execute_result"
    }
   ],
   "source": [
    "np.hstack((arr4,arr5)) #row"
   ]
  },
  {
   "cell_type": "code",
   "execution_count": 70,
   "id": "b4952e87-2ea6-4962-91ee-2dd2025bf3bb",
   "metadata": {},
   "outputs": [
    {
     "data": {
      "text/plain": [
       "array([[1, 2, 3],\n",
       "       [4, 5, 6],\n",
       "       [7, 8, 9],\n",
       "       [9, 8, 7],\n",
       "       [6, 5, 4],\n",
       "       [3, 2, 1]])"
      ]
     },
     "execution_count": 70,
     "metadata": {},
     "output_type": "execute_result"
    }
   ],
   "source": [
    "np.vstack((arr4,arr5)) #colums"
   ]
  },
  {
   "cell_type": "code",
   "execution_count": 72,
   "id": "940db9b1-70cb-4df8-846f-ada724dd0683",
   "metadata": {},
   "outputs": [
    {
     "data": {
      "text/plain": [
       "array([[[1, 9],\n",
       "        [2, 8],\n",
       "        [3, 7]],\n",
       "\n",
       "       [[4, 6],\n",
       "        [5, 5],\n",
       "        [6, 4]],\n",
       "\n",
       "       [[7, 3],\n",
       "        [8, 2],\n",
       "        [9, 1]]])"
      ]
     },
     "execution_count": 72,
     "metadata": {},
     "output_type": "execute_result"
    }
   ],
   "source": [
    "np.dstack((arr4,arr5)) #height"
   ]
  },
  {
   "cell_type": "markdown",
   "id": "fd1a2f5c-a856-4f40-8265-6f518791ea00",
   "metadata": {},
   "source": [
    "# Splitting of Array"
   ]
  },
  {
   "cell_type": "code",
   "execution_count": 77,
   "id": "6702fb00-74ac-4e3d-8f40-36825accbdab",
   "metadata": {},
   "outputs": [
    {
     "name": "stdout",
     "output_type": "stream",
     "text": [
      "[array([[1, 2, 3]]), array([[4, 5, 6]]), array([[7, 8, 9]])]\n",
      "[[9 8 7]]\n",
      "[[6 5 4]]\n",
      "[[3 2 1]]\n"
     ]
    }
   ],
   "source": [
    "split=np.split(arr4,3)\n",
    "print(split)\n",
    "a1,a2,a3=np.split(arr5,3)\n",
    "print(a1)\n",
    "print(a2)\n",
    "print(a3)"
   ]
  },
  {
   "cell_type": "markdown",
   "id": "b3f07ea6-e97c-442b-ae34-a1249f621c58",
   "metadata": {},
   "source": [
    "# iteration of Array in Numpy"
   ]
  },
  {
   "cell_type": "code",
   "execution_count": 82,
   "id": "bfe1b7aa-842e-4f52-bf33-b896526449cb",
   "metadata": {},
   "outputs": [
    {
     "name": "stdout",
     "output_type": "stream",
     "text": [
      "1\n",
      "1\n",
      "2\n",
      "3\n",
      "4\n",
      "6\n",
      "7\n",
      "7\n",
      "9\n",
      "22\n",
      "33\n",
      "50\n"
     ]
    }
   ],
   "source": [
    "#there are serval way to iterates the numpy array\n",
    "#1.like in basic python programming language \n",
    "for i in arr:\n",
    "    print(i) "
   ]
  },
  {
   "cell_type": "code",
   "execution_count": 83,
   "id": "00b0d92d-1faf-49e9-8342-3aab8461c923",
   "metadata": {},
   "outputs": [
    {
     "name": "stdout",
     "output_type": "stream",
     "text": [
      "1\n",
      "1\n",
      "2\n",
      "3\n",
      "4\n",
      "6\n",
      "7\n",
      "7\n",
      "9\n",
      "22\n",
      "33\n",
      "50\n"
     ]
    }
   ],
   "source": [
    "# 2.np.nditer(arr)\n",
    "for i in np.nditer(arr):\n",
    "    print(i)"
   ]
  },
  {
   "cell_type": "code",
   "execution_count": 98,
   "id": "4a90e936-aeb7-42ed-add5-72c01b3cc5ce",
   "metadata": {
    "scrolled": true
   },
   "outputs": [
    {
     "name": "stdout",
     "output_type": "stream",
     "text": [
      "b'1'\n",
      "b'1'\n",
      "b'2'\n",
      "b'3'\n",
      "b'4'\n",
      "b'6'\n",
      "b'7'\n",
      "b'7'\n",
      "b'9'\n",
      "b'22'\n",
      "b'33'\n",
      "b'50'\n"
     ]
    }
   ],
   "source": [
    "# 3.If you want to store the data in the buffer memory while iterating the numpy array.see the following code\n",
    "for i in np.nditer(arr,flags=['buffered'],op_dtypes=[\"S\"]):\n",
    "    print(i)\n"
   ]
  },
  {
   "cell_type": "markdown",
   "id": "f99e420d-ee8e-4e5d-985c-8a9936e09a9f",
   "metadata": {},
   "source": [
    "\n",
    "Indexing and Slicing"
   ]
  },
  {
   "cell_type": "code",
   "execution_count": 112,
   "id": "4cd39974-4997-4cb6-97a8-f4cb4fd82834",
   "metadata": {},
   "outputs": [
    {
     "name": "stdout",
     "output_type": "stream",
     "text": [
      "arr7[0]=\t: [1 2 3]\n",
      "arr7[0,1]=\t: 2 \n",
      "\n",
      "arr7[1:]=\t: [[3 4 5]\n",
      " [5 6 7]\n",
      " [8 9 7]] \n",
      "\n",
      "arr7[:2]=\t: [[1 2 3]\n",
      " [3 4 5]] \n",
      "\n",
      "arr7[0:2]=\t: [[1 2 3]\n",
      " [3 4 5]] \n",
      "\n",
      "arr7[::2]=\t: [[1 2 3]\n",
      " [5 6 7]] \n",
      "\n"
     ]
    }
   ],
   "source": [
    "#Indexing\n",
    "arr7=np.array([[1,2,3],[3,4,5],[5,6,7],[8,9,7]])\n",
    "print(\"arr7[0]=\\t:\",arr7[0])\n",
    "print(\"arr7[0,1]=\\t:\",arr7[0,1],\"\\n\")\n",
    "\n",
    "#Slicing\n",
    "print(\"arr7[1:]=\\t:\",arr7[1:],\"\\n\")\n",
    "print(\"arr7[:2]=\\t:\",arr7[:2],\"\\n\")\n",
    "print(\"arr7[0:2]=\\t:\",arr7[0:2],\"\\n\")\n",
    "print(\"arr7[::2]=\\t:\",arr7[::2],\"\\n\")"
   ]
  },
  {
   "cell_type": "markdown",
   "id": "95daefed-7555-4c49-9b8a-90ca933de8ce",
   "metadata": {},
   "source": [
    "# Mathematics in Numpy Array\n",
    "  "
   ]
  },
  {
   "cell_type": "code",
   "execution_count": 115,
   "id": "c18bea02-0869-44d9-92d4-597c7e56eabb",
   "metadata": {},
   "outputs": [
    {
     "name": "stdout",
     "output_type": "stream",
     "text": [
      "[[ 6  8]\n",
      " [10 12]]\n",
      "[[ 5 12]\n",
      " [21 32]]\n",
      "[[-4 -4]\n",
      " [-4 -4]]\n"
     ]
    }
   ],
   "source": [
    "ar1=np.array([[1,2],[3,4]])\n",
    "ar2=np.array([[5,6],[7,8]])\n",
    "print(ar1+ar2)\n",
    "print(ar1*ar2)\n",
    "print(ar1-ar2)"
   ]
  },
  {
   "cell_type": "code",
   "execution_count": 120,
   "id": "5a5507b9-0789-4a3c-8c9b-9d11ef70fead",
   "metadata": {},
   "outputs": [
    {
     "name": "stdout",
     "output_type": "stream",
     "text": [
      "Minimum=\t: 2\n",
      "Maximum=\t: 245\n",
      "Index(Minimum)=\t: 11\n",
      "Sin(90)=\t: 0.8939966636005579\n",
      "cos(75)=\t: 0.9217512697247493\n",
      "cumsum(ar)=\t: [ 16  19  51  56  62 287 293 296 541 547 580 582 587 593 596 602 665 667\n",
      " 671]\n"
     ]
    }
   ],
   "source": [
    "ar=np.array([16,3,32,5,6,225,6,3,245,6,33,2,5,6,3,6,63,2,4])\n",
    "print(\"Minimum=\\t:\",np.min(ar))\n",
    "print(\"Maximum=\\t:\",np.max(ar))\n",
    "print(\"Index(Minimum)=\\t:\",np.argmin(ar))\n",
    "print(\"Sin(90)=\\t:\",np.sin(90))\n",
    "print(\"cos(75)=\\t:\",np.cos(75))\n",
    "print(\"cumsum(ar)=\\t:\",np.cumsum(ar)) #first elements is same as ar second is sum of first and second elements and so on..."
   ]
  },
  {
   "cell_type": "code",
   "execution_count": null,
   "id": "db413bb3-7cb7-44ac-b599-26ed0869ae1e",
   "metadata": {},
   "outputs": [],
   "source": []
  },
  {
   "cell_type": "code",
   "execution_count": null,
   "id": "0c10fef7-4224-4142-8281-fce072d4f5c2",
   "metadata": {},
   "outputs": [],
   "source": []
  },
  {
   "cell_type": "code",
   "execution_count": null,
   "id": "4222af4b-da28-4d3c-b33c-d14c0e33fa61",
   "metadata": {},
   "outputs": [],
   "source": []
  },
  {
   "cell_type": "code",
   "execution_count": null,
   "id": "8b3ea071-26bd-47b8-a38e-ccefa09f40bc",
   "metadata": {},
   "outputs": [],
   "source": []
  }
 ],
 "metadata": {
  "kernelspec": {
   "display_name": "Python 3 (ipykernel)",
   "language": "python",
   "name": "python3"
  },
  "language_info": {
   "codemirror_mode": {
    "name": "ipython",
    "version": 3
   },
   "file_extension": ".py",
   "mimetype": "text/x-python",
   "name": "python",
   "nbconvert_exporter": "python",
   "pygments_lexer": "ipython3",
   "version": "3.12.7"
  }
 },
 "nbformat": 4,
 "nbformat_minor": 5
}
