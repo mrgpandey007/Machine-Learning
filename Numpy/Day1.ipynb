{
 "cells": [
  {
   "cell_type": "markdown",
   "id": "d9e51c72-ad12-423b-b3a4-480c007933b8",
   "metadata": {},
   "source": [
    "# Creating a Numpy Array"
   ]
  },
  {
   "cell_type": "code",
   "execution_count": null,
   "id": "c93347c6-bf43-44c7-aab6-125d23877ef2",
   "metadata": {},
   "outputs": [
    {
     "name": "stdout",
     "output_type": "stream",
     "text": [
      "[  2   4  56 789]\n"
     ]
    }
   ],
   "source": [
    "import numpy as np\n",
    "arr=np.array([2,4,56,789])\n",
    "print(arr)"
   ]
  },
  {
   "cell_type": "markdown",
   "id": "033e8b5b-eecc-4cbe-bdbd-2e32c59c57f6",
   "metadata": {},
   "source": [
    "# Common Method in Numpy"
   ]
  },
  {
   "cell_type": "code",
   "execution_count": 3,
   "id": "165631a7-d223-4495-8769-86093f068d65",
   "metadata": {},
   "outputs": [
    {
     "name": "stdout",
     "output_type": "stream",
     "text": [
      "1\n",
      "(4,)\n",
      "4\n",
      "int32\n",
      "4\n"
     ]
    }
   ],
   "source": [
    "print(arr.ndim)\n",
    "print(arr.shape)\n",
    "print(arr.size)\n",
    "print(arr.dtype)\n",
    "print(arr.itemsize)"
   ]
  },
  {
   "cell_type": "code",
   "execution_count": 4,
   "id": "11f822b1-8689-4058-82e3-769dca33a4c8",
   "metadata": {},
   "outputs": [
    {
     "name": "stdout",
     "output_type": "stream",
     "text": [
      "[[ 3.  6.]\n",
      " [ 9. 12.]]\n"
     ]
    }
   ],
   "source": [
    "#Creating a array with specified datatype\n",
    "ar1=np.array([[3,6],[9,12]],dtype=float)\n",
    "print(ar1)"
   ]
  },
  {
   "cell_type": "code",
   "execution_count": 5,
   "id": "7c6ad17a-3717-4869-9490-22f44aacfd8c",
   "metadata": {},
   "outputs": [
    {
     "name": "stdout",
     "output_type": "stream",
     "text": [
      "[[0. 0. 0. 0.]\n",
      " [0. 0. 0. 0.]\n",
      " [0. 0. 0. 0.]]\n"
     ]
    }
   ],
   "source": [
    "#Creating a array with all elements zeroes\n",
    "ar_zero=np.zeros((3,4)) #it create a matrix array with all the elements zeros\n",
    "print(ar_zero)"
   ]
  },
  {
   "cell_type": "code",
   "execution_count": 6,
   "id": "d1942774-5e4d-4996-8705-de20721da600",
   "metadata": {},
   "outputs": [
    {
     "name": "stdout",
     "output_type": "stream",
     "text": [
      "[[1. 1. 1. 1.]\n",
      " [1. 1. 1. 1.]\n",
      " [1. 1. 1. 1.]]\n"
     ]
    }
   ],
   "source": [
    "#Creating a array with all elements onces\n",
    "ar_one=np.ones((3,4)) #it create a matrix array with all the elements one\n",
    "print(ar_one)"
   ]
  },
  {
   "cell_type": "code",
   "execution_count": 7,
   "id": "c0ce0d58-b3b8-4bad-ad74-881f65dc74c0",
   "metadata": {},
   "outputs": [
    {
     "name": "stdout",
     "output_type": "stream",
     "text": [
      "[-2  2  6 10 14 18 22]\n"
     ]
    }
   ],
   "source": [
    "#Creating a array within a range of elements\n",
    "ar_range=np.arange(-2,24,4)\n",
    "print(ar_range)"
   ]
  },
  {
   "cell_type": "code",
   "execution_count": 8,
   "id": "ca4d106a-68e4-4659-8635-89493904657d",
   "metadata": {},
   "outputs": [
    {
     "name": "stdout",
     "output_type": "stream",
     "text": [
      "[-2  2  6 10 14 18 22]\n"
     ]
    }
   ],
   "source": [
    "#Creating a array within a range of elements\n",
    "ar_range=np.arange(-2,24,4)\n",
    "print(ar_range)"
   ]
  },
  {
   "cell_type": "code",
   "execution_count": 13,
   "id": "0f97fd52-a273-49d2-9987-02b195ff67dc",
   "metadata": {},
   "outputs": [
    {
     "name": "stdout",
     "output_type": "stream",
     "text": [
      "3X3= [[1. 0. 0.]\n",
      " [0. 1. 0.]\n",
      " [0. 0. 1.]]\n",
      "3X5= [[1. 0. 0. 0. 0.]\n",
      " [0. 1. 0. 0. 0.]\n",
      " [0. 0. 1. 0. 0.]]\n"
     ]
    }
   ],
   "source": [
    "#Creating a array with diagonal elements zeros\n",
    "arr_dia=np.eye(3) # Creates a matrix of 3X3 with diaganol elements 1\n",
    "print(\"3X3=\",end=\" \")\n",
    "print(arr_dia)\n",
    "\n",
    "ar_dia=np.eye(3,5) # Creates a matrix of 3X3 with diaganol elements 1\n",
    "print(\"3X5=\",end=\" \")\n",
    "print(ar_dia)"
   ]
  },
  {
   "cell_type": "code",
   "execution_count": 14,
   "id": "b2fe6ac6-d719-4abc-9384-cba0c77a0c0e",
   "metadata": {},
   "outputs": [
    {
     "name": "stdout",
     "output_type": "stream",
     "text": [
      "[ 0.          2.85714286  5.71428571  8.57142857 11.42857143 14.28571429\n",
      " 17.14285714 20.        ]\n"
     ]
    }
   ],
   "source": [
    "#Linspane\n",
    "\n",
    "ar_lin=np.linspace(0,20,num=8)\n",
    "print(ar_lin)"
   ]
  },
  {
   "cell_type": "code",
   "execution_count": 21,
   "id": "6ad76038-d94a-4180-bf22-59f096430d0d",
   "metadata": {},
   "outputs": [
    {
     "name": "stdout",
     "output_type": "stream",
     "text": [
      "[0.63098372 0.08109449 0.67316415 0.32603099 0.16996931 0.39262025]\n",
      "[[[0.84881251]\n",
      "  [0.45754848]\n",
      "  [0.5749603 ]\n",
      "  [0.80172859]\n",
      "  [0.29734598]]\n",
      "\n",
      " [[0.85679788]\n",
      "  [0.84710895]\n",
      "  [0.36765872]\n",
      "  [0.29500611]\n",
      "  [0.1195948 ]]\n",
      "\n",
      " [[0.08563428]\n",
      "  [0.91635226]\n",
      "  [0.77914813]\n",
      "  [0.64446845]\n",
      "  [0.90004616]]]\n"
     ]
    }
   ],
   "source": [
    "#Creating a Numpy array with random number\n",
    "#There are four functions to create a numpy array with random numbers\n",
    "#1.rand() :-Used to generate a random value between 0 to 1\n",
    "ar_rand=np.random.rand(6) # generate the 1D array with 6 random values\n",
    "print(ar_rand)\n",
    "ar_rand1=np.random.rand(3,5,1) # generate the 3X5 array \n",
    "print(ar_rand1)"
   ]
  },
  {
   "cell_type": "code",
   "execution_count": 20,
   "id": "90e71e47-4aba-4932-b3b7-4fc2796b80af",
   "metadata": {},
   "outputs": [
    {
     "name": "stdout",
     "output_type": "stream",
     "text": [
      "[-0.309912    1.06113937  0.93473005 -0.38564566  0.63287776 -0.31214678]\n",
      "[[[-0.72807126]\n",
      "  [-0.58187485]\n",
      "  [ 1.51786228]\n",
      "  [ 0.16476556]\n",
      "  [-3.36267762]]\n",
      "\n",
      " [[ 1.00803689]\n",
      "  [-0.13355831]\n",
      "  [-0.82317626]\n",
      "  [-1.99886206]\n",
      "  [-0.63866855]]\n",
      "\n",
      " [[ 0.79185815]\n",
      "  [ 0.96030041]\n",
      "  [ 1.09286153]\n",
      "  [-1.52314521]\n",
      "  [-0.41548543]]]\n"
     ]
    }
   ],
   "source": [
    "#1.rand() :-Used to generate a random value which is close to zero. this may generate numbers\n",
    "ar_randn=np.random.randn(6) # generate the 1D array with 6 random values\n",
    "print(ar_randn)\n",
    "ar_rand1n=np.random.randn(3,5,1) # generate the 3X5 array \n",
    "print(ar_rand1n)"
   ]
  },
  {
   "cell_type": "code",
   "execution_count": 30,
   "id": "d01088df-393f-44b2-a181-99e24404436b",
   "metadata": {},
   "outputs": [
    {
     "name": "stdout",
     "output_type": "stream",
     "text": [
      "[-1.42607673 -0.27207147  0.91258141 -1.05377426 -0.76537138 -1.56529463]\n",
      "[[[ 0.16281834]\n",
      "  [ 0.35272213]\n",
      "  [ 0.29126562]\n",
      "  [ 0.51875179]\n",
      "  [ 1.60603239]]\n",
      "\n",
      " [[ 1.76983581]\n",
      "  [-0.66118723]\n",
      "  [-0.65622508]\n",
      "  [ 0.74039438]\n",
      "  [ 0.83337743]]\n",
      "\n",
      " [[-1.62943448]\n",
      "  [ 0.04065296]\n",
      "  [-0.51084253]\n",
      "  [-0.34513226]\n",
      "  [-0.23861299]]]\n"
     ]
    }
   ],
   "source": [
    "#1.rand() :-Used to generate a random value which is close to zero. this may generate numbers\n",
    "ar_randn=np.random.randn(6) # generate the 1D array with 6 random values\n",
    "print(ar_randn)\n",
    "\n",
    "ar_rand1n=np.random.randn(3,5,1) # generate the 3X5 array \n",
    "print(ar_rand1n)"
   ]
  },
  {
   "cell_type": "code",
   "execution_count": 31,
   "id": "80b15f97-3098-40c4-bace-a3f1a8039455",
   "metadata": {},
   "outputs": [
    {
     "name": "stdout",
     "output_type": "stream",
     "text": [
      "[0.57670846 0.30172587 0.06047116 0.89384302 0.56938643 0.69097601]\n",
      "[0.73826586 0.35285019 0.33022355]\n"
     ]
    }
   ],
   "source": [
    "#3.randf() :- used to generate floating numbers within the interval of [0.0 - 1.0]\n",
    "ar_ranf=np.random.ranf(6) # generate the 1D array with 6 random values\n",
    "print(ar_ranf)\n",
    "\n",
    "ar_ranf1=np.random.ranf(3) # generate the 3X5 array \n",
    "print(ar_ranf1)"
   ]
  },
  {
   "cell_type": "code",
   "execution_count": 39,
   "id": "5d952e68-e830-4b7c-9e1d-31acaa258ddf",
   "metadata": {},
   "outputs": [
    {
     "name": "stdout",
     "output_type": "stream",
     "text": [
      "[4 4 4 1 2 3 5]\n"
     ]
    }
   ],
   "source": [
    "#4.Randint():-Used to generate random interger within the given range\n",
    "#Syntax :- randint(min,max,number)\n",
    "ar_ran=np.random.randint(1,6,7) # generate the 1D array \n",
    "print(ar_ran)"
   ]
  },
  {
   "cell_type": "markdown",
   "id": "43eb2662-125d-44c2-84d7-da3627c148af",
   "metadata": {},
   "source": [
    "# Shape"
   ]
  },
  {
   "cell_type": "code",
   "execution_count": 43,
   "id": "e06ce129-8e8d-42b4-bea3-b5711951d845",
   "metadata": {},
   "outputs": [
    {
     "name": "stdout",
     "output_type": "stream",
     "text": [
      "Shape of array = (4,)\n",
      "Shape of array2 = (4,)\n",
      "Dimension of array2 = 1\n",
      "[[1 2 3 4]\n",
      " [5 6 7 8]]\n"
     ]
    }
   ],
   "source": [
    "ar=np.array([1,2,3,4])\n",
    "print(\"Shape of array =\",ar.shape)\n",
    "\n",
    "ar1=np.array([1,2,3,4],ndmin=4)\n",
    "print(\"Shape of array2 =\",ar.shape)\n",
    "print(\"Dimension of array2 =\",ar.ndim)\n",
    "\n",
    "#Reshaping the array or we can say converting the different dimensions arrays to different dimensions arrays\n",
    "ar2=np.array([1,2,3,4,5,6,7,8])\n",
    "ar3=ar2.reshape(2,4)\n",
    "print(ar3)"
   ]
  },
  {
   "cell_type": "code",
   "execution_count": null,
   "id": "e2327a64-9bac-4e78-a1c2-fbd110536a6c",
   "metadata": {},
   "outputs": [],
   "source": []
  },
  {
   "cell_type": "code",
   "execution_count": null,
   "id": "e88bd517-8aa3-4a26-b479-86919beec9a5",
   "metadata": {},
   "outputs": [],
   "source": []
  },
  {
   "cell_type": "code",
   "execution_count": null,
   "id": "9f840de3-756c-46c3-a887-bd78d69745a0",
   "metadata": {},
   "outputs": [],
   "source": []
  },
  {
   "cell_type": "code",
   "execution_count": null,
   "id": "1074ae1e-4060-4e28-8180-ef7a9da02147",
   "metadata": {},
   "outputs": [],
   "source": []
  },
  {
   "cell_type": "code",
   "execution_count": null,
   "id": "34e35165-37da-40e0-9b07-41c43896f32d",
   "metadata": {},
   "outputs": [],
   "source": []
  },
  {
   "cell_type": "code",
   "execution_count": null,
   "id": "a71801cd-3581-4424-80f7-8f8e17a78d5f",
   "metadata": {},
   "outputs": [],
   "source": []
  },
  {
   "cell_type": "code",
   "execution_count": null,
   "id": "a5583d83-20a9-44a4-ba5a-c9be87c399bd",
   "metadata": {},
   "outputs": [],
   "source": []
  },
  {
   "cell_type": "code",
   "execution_count": null,
   "id": "78874374-8f0a-4834-bb83-e416fe99cc7a",
   "metadata": {},
   "outputs": [],
   "source": []
  },
  {
   "cell_type": "code",
   "execution_count": null,
   "id": "24de5148-6c13-41d4-bab0-de7927e12516",
   "metadata": {},
   "outputs": [],
   "source": []
  }
 ],
 "metadata": {
  "kernelspec": {
   "display_name": "Python 3 (ipykernel)",
   "language": "python",
   "name": "python3"
  },
  "language_info": {
   "codemirror_mode": {
    "name": "ipython",
    "version": 3
   },
   "file_extension": ".py",
   "mimetype": "text/x-python",
   "name": "python",
   "nbconvert_exporter": "python",
   "pygments_lexer": "ipython3",
   "version": "3.12.7"
  }
 },
 "nbformat": 4,
 "nbformat_minor": 5
}
