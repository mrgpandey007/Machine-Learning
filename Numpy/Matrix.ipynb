{
 "cells": [
  {
   "cell_type": "markdown",
   "id": "dfc685ec-9e31-4a58-ba81-7bbb778379ea",
   "metadata": {},
   "source": [
    "# Matrix in Numpy"
   ]
  },
  {
   "cell_type": "code",
   "execution_count": 5,
   "id": "104c988c-4b21-416f-974f-4f94c5194020",
   "metadata": {},
   "outputs": [
    {
     "name": "stdout",
     "output_type": "stream",
     "text": [
      "[[1 2]\n",
      " [3 4]]\n",
      "Data Type = <class 'numpy.matrix'>\n"
     ]
    }
   ],
   "source": [
    "import numpy as np\n",
    "mat=np.matrix([[1,2],[3,4]])\n",
    "print(mat)\n",
    "print(\"Data Type =\",type(mat))"
   ]
  },
  {
   "cell_type": "markdown",
   "id": "83619206-de7d-41b5-97b5-a830758ec3ff",
   "metadata": {},
   "source": [
    "# Multiplication in Matrix"
   ]
  },
  {
   "cell_type": "code",
   "execution_count": 9,
   "id": "1180aafd-2a07-4bf5-a36a-ab3a0cb6d648",
   "metadata": {},
   "outputs": [
    {
     "name": "stdout",
     "output_type": "stream",
     "text": [
      "Multiplication =\n",
      " [[16 19]\n",
      " [36 43]]\n",
      "Using dot() fuction multiplication =\n",
      " [[16 19]\n",
      " [36 43]]\n"
     ]
    }
   ],
   "source": [
    "mat1=np.matrix([[1,2],[3,4]])\n",
    "mat2=np.matrix([[4,5],[6,7]])\n",
    "print(\"Multiplication =\\n\",mat1*mat2)\n",
    "print(\"Using dot() fuction multiplication =\\n\",mat1.dot(mat2))"
   ]
  },
  {
   "cell_type": "markdown",
   "id": "e7d52991-4839-4ee5-a0c4-7a7bcdf1f7b3",
   "metadata": {},
   "source": [
    "# Transpose in matrix"
   ]
  },
  {
   "cell_type": "code",
   "execution_count": 17,
   "id": "126539f3-24d8-4c91-8e7a-a75d5caed718",
   "metadata": {},
   "outputs": [
    {
     "name": "stdout",
     "output_type": "stream",
     "text": [
      "mat=\n",
      " [[1 2]\n",
      " [3 4]]\n",
      "Transpose of Mat =\n",
      " [[1 3]\n",
      " [2 4]]\n",
      "Transpose with the help of swapaxes() function =\n",
      " [[1 3]\n",
      " [2 4]]\n"
     ]
    }
   ],
   "source": [
    "print(\"mat=\\n\",mat)\n",
    "print(\"Transpose of Mat =\\n\",np.transpose(mat))\n",
    "print(\"Transpose with the help of swapaxes() function =\\n\",np.swapaxes(mat,0,1)) # It changes the axis 0 to 1 "
   ]
  },
  {
   "cell_type": "markdown",
   "id": "504107c7-3cad-4c4c-aa3e-70b5acd32c51",
   "metadata": {},
   "source": [
    "# Inverse in Matrix"
   ]
  },
  {
   "cell_type": "code",
   "execution_count": 14,
   "id": "fb621784-1eb6-4f25-9495-6cf95db2ebec",
   "metadata": {},
   "outputs": [
    {
     "name": "stdout",
     "output_type": "stream",
     "text": [
      "Inverse of mat =\n",
      " [[-2.   1. ]\n",
      " [ 1.5 -0.5]]\n"
     ]
    }
   ],
   "source": [
    "print(\"Inverse of mat =\\n\",np.linalg.inv(mat))"
   ]
  },
  {
   "cell_type": "markdown",
   "id": "621021e3-c1e7-459f-a473-606ab63fb4a3",
   "metadata": {},
   "source": [
    "# Power"
   ]
  },
  {
   "cell_type": "code",
   "execution_count": 16,
   "id": "cdea540e-1912-420d-9247-cf6c1db17646",
   "metadata": {},
   "outputs": [
    {
     "name": "stdout",
     "output_type": "stream",
     "text": [
      "Mat in Power of 3 =\n",
      " [[ 37  54]\n",
      " [ 81 118]]\n"
     ]
    }
   ],
   "source": [
    "print(\"Mat in Power of 3 =\\n\",np.linalg.matrix_power(mat,3))"
   ]
  },
  {
   "cell_type": "markdown",
   "id": "a7585f8b-4c40-44ee-8122-4dfe929c3942",
   "metadata": {},
   "source": [
    "# Determinates"
   ]
  },
  {
   "cell_type": "code",
   "execution_count": 19,
   "id": "0082b43e-c9da-42a8-8073-ed77cd2cc4c0",
   "metadata": {},
   "outputs": [
    {
     "name": "stdout",
     "output_type": "stream",
     "text": [
      "Determinates of mat =\t: -2.0000000000000004\n",
      "Determinates of mat1 =\t: -2.0000000000000004\n",
      "Determinates of mat2 =\t: -2.000000000000003\n",
      "Determinates of mat^3 =\t: -8.000000000000037\n"
     ]
    }
   ],
   "source": [
    "print(\"Determinates of mat =\\t:\",np.linalg.det(mat))\n",
    "print(\"Determinates of mat1 =\\t:\",np.linalg.det(mat1))\n",
    "print(\"Determinates of mat2 =\\t:\",np.linalg.det(mat2))\n",
    "print(\"Determinates of mat^3 =\\t:\",np.linalg.det(np.linalg.matrix_power(mat,3)))"
   ]
  },
  {
   "cell_type": "code",
   "execution_count": null,
   "id": "ed9acd9b-b5cc-41f8-8136-98099af4ea60",
   "metadata": {},
   "outputs": [],
   "source": []
  }
 ],
 "metadata": {
  "kernelspec": {
   "display_name": "Python 3 (ipykernel)",
   "language": "python",
   "name": "python3"
  },
  "language_info": {
   "codemirror_mode": {
    "name": "ipython",
    "version": 3
   },
   "file_extension": ".py",
   "mimetype": "text/x-python",
   "name": "python",
   "nbconvert_exporter": "python",
   "pygments_lexer": "ipython3",
   "version": "3.12.7"
  }
 },
 "nbformat": 4,
 "nbformat_minor": 5
}
