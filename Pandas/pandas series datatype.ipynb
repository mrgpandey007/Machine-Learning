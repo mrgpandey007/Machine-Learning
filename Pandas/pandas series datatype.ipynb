{
 "cells": [
  {
   "cell_type": "markdown",
   "id": "a5e8aaec-00b7-41f2-92d9-7409032df67c",
   "metadata": {},
   "source": [
    "## PANDAS"
   ]
  },
  {
   "cell_type": "markdown",
   "id": "a612c16c-4f45-4c6e-bd81-7afe5e03e607",
   "metadata": {},
   "source": [
    "# Data Structure in Pandas are 3 types"
   ]
  },
  {
   "cell_type": "markdown",
   "id": "57a53b85-8d3c-4170-9c60-a1b794f68321",
   "metadata": {},
   "source": [
    "# 1.Series\n",
    "# 2.Data Frame\n",
    "# 3.panal"
   ]
  },
  {
   "cell_type": "markdown",
   "id": "e19bdbb5-c9a7-4f7c-9af3-a504dfe9ee7f",
   "metadata": {},
   "source": [
    "# Series:-"
   ]
  },
  {
   "cell_type": "code",
   "execution_count": 30,
   "id": "e0deccec-2764-4e07-a5f0-972d394006dc",
   "metadata": {},
   "outputs": [
    {
     "name": "stdout",
     "output_type": "stream",
     "text": [
      "0    1\n",
      "1    2\n",
      "2    3\n",
      "3    4\n",
      "4    5\n",
      "dtype: int32\n"
     ]
    }
   ],
   "source": [
    "import pandas as pd\n",
    "import numpy as np\n",
    "arr=np.array([1,2,3,4,5])\n",
    "s=pd.Series(arr)\n",
    "print(s)"
   ]
  },
  {
   "cell_type": "code",
   "execution_count": 31,
   "id": "32f28888-a831-4bd0-bc34-48b18192a5e8",
   "metadata": {},
   "outputs": [
    {
     "name": "stdout",
     "output_type": "stream",
     "text": [
      "one      1\n",
      "two      2\n",
      "three    3\n",
      "four     4\n",
      "five     5\n",
      "dtype: int32\n"
     ]
    }
   ],
   "source": [
    "arr=np.array([1,2,3,4,5])\n",
    "s1=pd.Series(arr,index=['one','two','three','four','five'])\n",
    "print(s1)"
   ]
  },
  {
   "cell_type": "code",
   "execution_count": 33,
   "id": "d1e8d571-8096-4d9e-9d5b-13eed07ff947",
   "metadata": {
    "scrolled": true
   },
   "outputs": [
    {
     "name": "stdout",
     "output_type": "stream",
     "text": [
      "1    35\n",
      "2    35\n",
      "3    35\n",
      "4    35\n",
      "5    35\n",
      "dtype: int32\n"
     ]
    }
   ],
   "source": [
    "#Creating a circular value\n",
    "arr=np.array(35)\n",
    "s2=pd.Series(arr,index=[1,2,3,4,5])\n",
    "print(s2)"
   ]
  },
  {
   "cell_type": "code",
   "execution_count": 11,
   "id": "1b40c102-ae53-4664-8192-db92307611c5",
   "metadata": {},
   "outputs": [
    {
     "name": "stdout",
     "output_type": "stream",
     "text": [
      "Name                 MRG_007\n",
      "Age                       22\n",
      "Work    Studying in 2nd year\n",
      "dtype: object\n"
     ]
    }
   ],
   "source": [
    "#Creating a series like a dictionary in python\n",
    "s1=pd.Series({'Name':'MRG_007','Age':22,'Work':'Studying in 2nd year'})\n",
    "print(s1)"
   ]
  },
  {
   "cell_type": "code",
   "execution_count": 14,
   "id": "bc8b4b4f-4ba1-49d5-96d5-a0c365880de5",
   "metadata": {},
   "outputs": [
    {
     "data": {
      "text/plain": [
       "Index([1, 2, 3, 4, 5], dtype='int64')"
      ]
     },
     "execution_count": 14,
     "metadata": {},
     "output_type": "execute_result"
    }
   ],
   "source": [
    "s.index"
   ]
  },
  {
   "cell_type": "code",
   "execution_count": 26,
   "id": "aab49951-6c3a-4169-bb93-050202662b23",
   "metadata": {
    "scrolled": true
   },
   "outputs": [
    {
     "data": {
      "text/plain": [
       "35"
      ]
     },
     "execution_count": 26,
     "metadata": {},
     "output_type": "execute_result"
    }
   ],
   "source": [
    "s.iloc[2]\n"
   ]
  },
  {
   "cell_type": "markdown",
   "id": "d8e38be3-0310-44b9-b9d0-ffa4229b40c6",
   "metadata": {},
   "source": [
    "# Mathematical Operation in Series data structure"
   ]
  },
  {
   "cell_type": "code",
   "execution_count": 49,
   "id": "9e03b99e-dc52-4d65-b8dd-8bafeb30e6eb",
   "metadata": {},
   "outputs": [
    {
     "name": "stdout",
     "output_type": "stream",
     "text": [
      "0    0\n",
      "1    1\n",
      "2    2\n",
      "3    3\n",
      "4    4\n",
      "5    5\n",
      "6    6\n",
      "7    7\n",
      "8    8\n",
      "9    9\n",
      "dtype: int32\n",
      "***********************************************************\n",
      "Multipling series by 3\n",
      " 0     0\n",
      "1     3\n",
      "2     6\n",
      "3     9\n",
      "4    12\n",
      "5    15\n",
      "6    18\n",
      "7    21\n",
      "8    24\n",
      "9    27\n",
      "dtype: int32\n",
      "***********************************************************\n",
      "Power series by 2\n",
      " 0     0\n",
      "1     1\n",
      "2     4\n",
      "3     9\n",
      "4    16\n",
      "5    25\n",
      "6    36\n",
      "7    49\n",
      "8    64\n",
      "9    81\n",
      "dtype: int32\n",
      "***********************************************************\n",
      "even value series\n",
      "  0    0\n",
      "2    2\n",
      "4    4\n",
      "6    6\n",
      "8    8\n",
      "dtype: int32\n"
     ]
    }
   ],
   "source": [
    "arr=np.arange(10)\n",
    "s2=pd.Series(arr)\n",
    "print(s2)\n",
    "print(\"***********************************************************\")\n",
    "print(\"Multipling series by 3\\n\",s2*3)\n",
    "print(\"***********************************************************\")\n",
    "print(\"Power series by 2\\n\",s2**2)\n",
    "print(\"***********************************************************\")\n",
    "print(\"even value series\\n \",s2[s2%2==0])"
   ]
  },
  {
   "cell_type": "code",
   "execution_count": 50,
   "id": "7e818cde-644c-4353-a721-882687ab018c",
   "metadata": {},
   "outputs": [
    {
     "name": "stdout",
     "output_type": "stream",
     "text": [
      "0    16\n",
      "1    20\n",
      "2    24\n",
      "3    28\n",
      "4    32\n",
      "5    36\n",
      "6    40\n",
      "7    44\n",
      "dtype: int32\n",
      "0   -16\n",
      "1   -16\n",
      "2   -16\n",
      "3   -16\n",
      "4   -16\n",
      "5   -16\n",
      "6   -16\n",
      "7   -16\n",
      "dtype: int32\n",
      "0      0\n",
      "1     36\n",
      "2     80\n",
      "3    132\n",
      "4    192\n",
      "5    260\n",
      "6    336\n",
      "7    420\n",
      "dtype: int32\n"
     ]
    }
   ],
   "source": [
    "ar1=np.arange(0,16,2)\n",
    "ar2=np.arange(16,32,2)\n",
    "s1=pd.Series(ar1)\n",
    "s2=pd.Series(ar2)\n",
    "print(s1+s2)\n",
    "print(s1-s2)\n",
    "print(s1*s2)\n"
   ]
  },
  {
   "cell_type": "markdown",
   "id": "6e29fac0-ce9c-4ecb-aaf4-41ddd432f8c9",
   "metadata": {},
   "source": [
    "# Head() & Tail()"
   ]
  },
  {
   "cell_type": "code",
   "execution_count": 54,
   "id": "ca71572f-53e4-4695-9a88-4b9cb7b55dc7",
   "metadata": {},
   "outputs": [
    {
     "name": "stdout",
     "output_type": "stream",
     "text": [
      "0    0\n",
      "1    2\n",
      "2    4\n",
      "3    6\n",
      "4    8\n",
      "dtype: int32\n",
      "\n",
      "first 4 value is\n",
      "0    0\n",
      "1    2\n",
      "2    4\n",
      "3    6\n",
      "dtype: int32\n"
     ]
    }
   ],
   "source": [
    "print(s1.head()) #head() function is used to return first 5 values from the series\n",
    "print(\"\\nfirst 4 value is\")\n",
    "print(s1.head(4))"
   ]
  },
  {
   "cell_type": "code",
   "execution_count": 55,
   "id": "9356a36c-0e14-4cf2-a6a2-f8df526047f1",
   "metadata": {},
   "outputs": [
    {
     "name": "stdout",
     "output_type": "stream",
     "text": [
      "3     6\n",
      "4     8\n",
      "5    10\n",
      "6    12\n",
      "7    14\n",
      "dtype: int32\n",
      "\n",
      "last 4 value is\n",
      "4     8\n",
      "5    10\n",
      "6    12\n",
      "7    14\n",
      "dtype: int32\n"
     ]
    }
   ],
   "source": [
    "print(s1.tail()) #head() function is used to return last 5 values from the series\n",
    "print(\"\\nlast 4 value is\")\n",
    "print(s1.tail(4))"
   ]
  },
  {
   "cell_type": "markdown",
   "id": "ae76990e-9e19-4c7b-bd09-1b9a12f06b69",
   "metadata": {},
   "source": [
    "# Selection in series"
   ]
  },
  {
   "cell_type": "code",
   "execution_count": 56,
   "id": "5b52cced-c286-4642-b288-e304209ab3cf",
   "metadata": {},
   "outputs": [
    {
     "name": "stdout",
     "output_type": "stream",
     "text": [
      "2     4\n",
      "3     6\n",
      "4     8\n",
      "5    10\n",
      "6    12\n",
      "7    14\n",
      "dtype: int32\n"
     ]
    }
   ],
   "source": [
    "#series provides index label loc and iloc and [] to access rows and columns\n",
    "#1.loc index label :-\n",
    "print(s1.loc[2:])"
   ]
  },
  {
   "cell_type": "code",
   "execution_count": 57,
   "id": "8738edad-bfc0-49b6-bf4e-6d3cf5111915",
   "metadata": {},
   "outputs": [
    {
     "name": "stdout",
     "output_type": "stream",
     "text": [
      "0    0\n",
      "1    2\n",
      "2    4\n",
      "dtype: int32\n"
     ]
    }
   ],
   "source": [
    "print(s1.loc[:2]) # lt is similar as silicing we can also give expression index[].\n"
   ]
  },
  {
   "cell_type": "code",
   "execution_count": 58,
   "id": "27f32121-a8b0-4f23-8804-6a3cdfeda0de",
   "metadata": {},
   "outputs": [
    {
     "name": "stdout",
     "output_type": "stream",
     "text": [
      "0    0\n",
      "1    2\n",
      "2    4\n",
      "dtype: int32\n"
     ]
    }
   ],
   "source": [
    "#2.iloc index label\n",
    "print(s1.iloc[:3]) #same as loc[]\n"
   ]
  },
  {
   "cell_type": "code",
   "execution_count": 66,
   "id": "a659c99f-ccec-4048-8287-eb956d56e7bc",
   "metadata": {},
   "outputs": [
    {
     "name": "stdout",
     "output_type": "stream",
     "text": [
      "20\n",
      "\n",
      "2    20\n",
      "3    22\n",
      "4    24\n",
      "5    26\n",
      "6    28\n",
      "7    30\n",
      "dtype: int32\n"
     ]
    }
   ],
   "source": [
    "#3.[] ->same as above but we can provide single index also like s2[index].\n",
    "print(s2[2])# lt return only values of the specified index\n",
    "print()\n",
    "print(s2[2:])"
   ]
  },
  {
   "cell_type": "markdown",
   "id": "63345782-612d-4aba-9bd4-6ba6cae8bbfb",
   "metadata": {},
   "source": [
    "# Slicing\n"
   ]
  },
  {
   "cell_type": "code",
   "execution_count": 67,
   "id": "21abeeab-9d41-4a78-8239-fc580c18dce6",
   "metadata": {},
   "outputs": [
    {
     "data": {
      "text/plain": [
       "0    0\n",
       "2    4\n",
       "4    8\n",
       "dtype: int32"
      ]
     },
     "execution_count": 67,
     "metadata": {},
     "output_type": "execute_result"
    }
   ],
   "source": [
    "#series_name[start:stop:step]\n",
    "s1[0:6:2]"
   ]
  }
 ],
 "metadata": {
  "kernelspec": {
   "display_name": "Python 3 (ipykernel)",
   "language": "python",
   "name": "python3"
  },
  "language_info": {
   "codemirror_mode": {
    "name": "ipython",
    "version": 3
   },
   "file_extension": ".py",
   "mimetype": "text/x-python",
   "name": "python",
   "nbconvert_exporter": "python",
   "pygments_lexer": "ipython3",
   "version": "3.12.7"
  }
 },
 "nbformat": 4,
 "nbformat_minor": 5
}
